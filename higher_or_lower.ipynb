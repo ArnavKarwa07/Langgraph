{
 "cells": [
  {
   "cell_type": "code",
   "execution_count": 32,
   "id": "e2fe1c8c",
   "metadata": {},
   "outputs": [],
   "source": [
    "from typing import TypedDict, List, Dict\n",
    "import random\n",
    "from langgraph.graph import StateGraph, START, END\n",
    "from IPython.display import display, Image"
   ]
  },
  {
   "cell_type": "code",
   "execution_count": 33,
   "id": "c597ec42",
   "metadata": {},
   "outputs": [],
   "source": [
    "class AgentState(TypedDict):\n",
    "    name: str\n",
    "    number: int\n",
    "    guesses: List[int]\n",
    "    attempts: int\n",
    "    lower_bound: int\n",
    "    upper_bound: int"
   ]
  },
  {
   "cell_type": "code",
   "execution_count": 34,
   "id": "d788da2b",
   "metadata": {},
   "outputs": [],
   "source": [
    "def setup_game(state:AgentState) -> AgentState:\n",
    "    state['guesses'] = []\n",
    "    state['attempts'] = 0\n",
    "    state['lower_bound'] = 1\n",
    "    state['upper_bound'] = 100\n",
    "    state['number'] = random.randint(state['lower_bound'], state['upper_bound'])\n",
    "    print(f\"Welcome {state['name']}! I have selected a number between {state['lower_bound']} and {state['upper_bound']}.\")\n",
    "    return state\n",
    "\n",
    "def make_guess(state: AgentState) -> AgentState:\n",
    "    guess = random.randint(state['lower_bound'], state['upper_bound'])\n",
    "    # guess = int(input(f\"Make a guess between {state['lower_bound']} and {state['upper_bound']}: \"))\n",
    "    state['guesses'].append(guess)\n",
    "    state['attempts'] += 1\n",
    "\n",
    "    if guess < state['lower_bound'] or guess > state['upper_bound']:\n",
    "        print(\"Your guess is out of bounds. Try again.\")\n",
    "    elif guess < state['number']:\n",
    "        print(\"Too low! Try again.\")\n",
    "        state['lower_bound'] = max(state['lower_bound'], guess + 1)\n",
    "    elif guess > state['number']:\n",
    "        print(\"Too high! Try again.\")\n",
    "        state['upper_bound'] = min(state['upper_bound'], guess - 1)\n",
    "    else:\n",
    "        print(f\"Congratulations {state['name']}! You've guessed the number {state['number']} in {state['attempts']} attempts.\")\n",
    "        return END\n",
    "    print(f\"Your guess: {guess}\")\n",
    "    print(state)\n",
    "    return state\n",
    "\n",
    "def stop_condition(state: AgentState) -> AgentState:\n",
    "    if state['attempts'] >= 7:\n",
    "        print(f\"Sorry {state['name']}, you've used all your attempts! The number was {state['number']}.\")\n",
    "        return \"end\"\n",
    "    else:\n",
    "        return \"continue\"\n",
    "\n",
    "def final_node(state: AgentState) -> AgentState:\n",
    "    if state['attempts'] < 7:\n",
    "        print(f\"Great job {state['name']}! You guessed the number {state['number']} in {state['attempts']} attempts.\")\n",
    "        print(f\"Your guesses were: {state['guesses']}\")\n",
    "        print(\"Thanks for playing!\")\n",
    "    else:\n",
    "        print(f\"Better luck next time, {state['name']}! The number was {state['number']}.\")\n",
    "    return state"
   ]
  },
  {
   "cell_type": "code",
   "execution_count": 35,
   "id": "75944805",
   "metadata": {},
   "outputs": [],
   "source": [
    "graph = StateGraph(AgentState)\n",
    "\n",
    "graph.add_node(\"setup_game\", setup_game)\n",
    "graph.add_node(\"make_guess\", make_guess)\n",
    "graph.add_node(\"final_node\", final_node)\n",
    "\n",
    "graph.add_edge(START, \"setup_game\")\n",
    "graph.add_edge(\"setup_game\", \"make_guess\")\n",
    "graph.add_conditional_edges(\n",
    "    \"make_guess\", \n",
    "    stop_condition,\n",
    "    {\n",
    "        \"continue\": \"make_guess\",\n",
    "        \"end\": \"final_node\",\n",
    "    },\n",
    ")\n",
    "graph.add_edge(\"final_node\", END)\n",
    "\n",
    "app = graph.compile()"
   ]
  },
  {
   "cell_type": "code",
   "execution_count": 36,
   "id": "f4fb4e64",
   "metadata": {},
   "outputs": [
    {
     "data": {
      "image/png": "[encoded data removed]",
      "text/plain": [
       "<IPython.core.display.Image object>"
      ]
     },
     "metadata": {},
     "output_type": "display_data"
    }
   ],
   "source": [
    "display(Image(app.get_graph().draw_mermaid_png()))  # Display the graph as an image"
   ]
  },
  {
   "cell_type": "code",
   "execution_count": 37,
   "id": "b610f4be",
   "metadata": {},
   "outputs": [
    {
     "name": "stdout",
     "output_type": "stream",
     "text": [
      "Welcome Player! I have selected a number between 1 and 100.\n",
      "Too high! Try again.\n",
      "Your guess: 88\n",
      "{'name': 'Player', 'number': 69, 'guesses': [88], 'attempts': 1, 'lower_bound': 1, 'upper_bound': 87}\n",
      "Too low! Try again.\n",
      "Your guess: 64\n",
      "{'name': 'Player', 'number': 69, 'guesses': [88, 64], 'attempts': 2, 'lower_bound': 65, 'upper_bound': 87}\n",
      "Too high! Try again.\n",
      "Your guess: 86\n",
      "{'name': 'Player', 'number': 69, 'guesses': [88, 64, 86], 'attempts': 3, 'lower_bound': 65, 'upper_bound': 85}\n",
      "Too high! Try again.\n",
      "Your guess: 73\n",
      "{'name': 'Player', 'number': 69, 'guesses': [88, 64, 86, 73], 'attempts': 4, 'lower_bound': 65, 'upper_bound': 72}\n",
      "Too low! Try again.\n",
      "Your guess: 66\n",
      "{'name': 'Player', 'number': 69, 'guesses': [88, 64, 86, 73, 66], 'attempts': 5, 'lower_bound': 67, 'upper_bound': 72}\n",
      "Too high! Try again.\n",
      "Your guess: 72\n",
      "{'name': 'Player', 'number': 69, 'guesses': [88, 64, 86, 73, 66, 72], 'attempts': 6, 'lower_bound': 67, 'upper_bound': 71}\n",
      "Too low! Try again.\n",
      "Your guess: 68\n",
      "{'name': 'Player', 'number': 69, 'guesses': [88, 64, 86, 73, 66, 72, 68], 'attempts': 7, 'lower_bound': 69, 'upper_bound': 71}\n",
      "Sorry Player, you've used all your attempts! The number was 69.\n",
      "Better luck next time, Player! The number was 69.\n",
      "{'name': 'Player', 'number': 69, 'guesses': [88, 64, 86, 73, 66, 72, 68], 'attempts': 7, 'lower_bound': 69, 'upper_bound': 71}\n"
     ]
    }
   ],
   "source": [
    "result = app.invoke({\"name\": \"Player\",\"lower_bound\": 1, \"upper_bound\": 100})\n",
    "print(result)  # Print the final state after the game ends"
   ]
  }
 ],
 "metadata": {
  "kernelspec": {
   "display_name": "Python 3",
   "language": "python",
   "name": "python3"
  },
  "language_info": {
   "codemirror_mode": {
    "name": "ipython",
    "version": 3
   },
   "file_extension": ".py",
   "mimetype": "text/x-python",
   "name": "python",
   "nbconvert_exporter": "python",
   "pygments_lexer": "ipython3",
   "version": "3.12.9"
  }
 },
 "nbformat": 4,
 "nbformat_minor": 5
}
