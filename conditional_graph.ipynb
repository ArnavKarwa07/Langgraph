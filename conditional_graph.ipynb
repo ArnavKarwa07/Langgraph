{
 "cells": [
  {
   "cell_type": "code",
   "execution_count": 1,
   "id": "38944457",
   "metadata": {},
   "outputs": [],
   "source": [
    "from typing import TypedDict\n",
    "from langgraph.graph import StateGraph, START, END\n",
    "from IPython.display import display, Image"
   ]
  },
  {
   "cell_type": "code",
   "execution_count": null,
   "id": "6c3500da",
   "metadata": {},
   "outputs": [],
   "source": [
    "class AgentState(TypedDict):\n",
    "    \"\"\"\n",
    "    Represents the state of the agent in the graph.\n",
    "    \"\"\"\n",
    "    num1: int\n",
    "    num2: int\n",
    "    operation: str\n",
    "    finalnumber: int"
   ]
  },
  {
   "cell_type": "code",
   "execution_count": 3,
   "id": "a3e82818",
   "metadata": {},
   "outputs": [],
   "source": [
    "def add_numbers(state:AgentState) -> AgentState:\n",
    "    \"\"\"Adds two numbers in the state.\"\"\"\n",
    "    state['finalnumber'] = state['num1'] + state['num2']\n",
    "    return state\n",
    "\n",
    "def subtract_numbers(state:AgentState) -> AgentState:\n",
    "    \"\"\"Subtracts two numbers in the state.\"\"\"\n",
    "    state['finalnumber'] = state['num1'] - state['num2']\n",
    "    return state\n",
    "\n",
    "def decision(state: AgentState) -> AgentState:\n",
    "    \"\"\"Decides which operation to perform based on the state.\"\"\"\n",
    "    if state['operation'] == 'add':\n",
    "        return \"addition\"\n",
    "    elif state['operation'] == 'subtract':\n",
    "        return \"subtraction\"\n",
    "    else:\n",
    "        raise ValueError(\"Unknown operation\")"
   ]
  },
  {
   "cell_type": "code",
   "execution_count": 7,
   "id": "b23bf356",
   "metadata": {},
   "outputs": [],
   "source": [
    "graph = StateGraph(AgentState)\n",
    "\n",
    "graph.add_node(\"add_nodes\", add_numbers)\n",
    "graph.add_node(\"subtract_nodes\", subtract_numbers)\n",
    "graph.add_node(\"decision\", lambda state:state) #passthrough function\n",
    "\n",
    "graph.add_edge(START, \"decision\")\n",
    "graph.add_conditional_edges(\n",
    "    \"decision\", # Source node\n",
    "    decision, # Function to determine the next node\n",
    "    {\n",
    "        \"addition\": \"add_nodes\", # Target node for addition\n",
    "        \"subtraction\": \"subtract_nodes\" # Target node for subtraction\n",
    "    }\n",
    ")\n",
    "graph.add_edge(\"add_nodes\", END)\n",
    "graph.add_edge(\"subtract_nodes\", END)\n",
    "\n",
    "app = graph.compile()\n"
   ]
  },
  {
   "cell_type": "code",
   "execution_count": 8,
   "id": "d1b8998f",
   "metadata": {},
   "outputs": [
    {
     "data": {
      "image/png": "[encoded data removed]",
      "text/plain": [
       "<IPython.core.display.Image object>"
      ]
     },
     "metadata": {},
     "output_type": "display_data"
    }
   ],
   "source": [
    "display(Image(app.get_graph().draw_mermaid_png()))  # Display the graph as an image"
   ]
  },
  {
   "cell_type": "code",
   "execution_count": 12,
   "id": "008f1a29",
   "metadata": {},
   "outputs": [
    {
     "name": "stdout",
     "output_type": "stream",
     "text": [
      "{'num1': 5, 'num2': 3, 'operation': 'add', 'finalnumber': 8}\n"
     ]
    }
   ],
   "source": [
    "result = app.invoke({\"num1\": 5, \"num2\": 3, \"operation\": \"add\"})\n",
    "print(result)"
   ]
  }
 ],
 "metadata": {
  "kernelspec": {
   "display_name": "Python 3",
   "language": "python",
   "name": "python3"
  },
  "language_info": {
   "codemirror_mode": {
    "name": "ipython",
    "version": 3
   },
   "file_extension": ".py",
   "mimetype": "text/x-python",
   "name": "python",
   "nbconvert_exporter": "python",
   "pygments_lexer": "ipython3",
   "version": "3.12.9"
  }
 },
 "nbformat": 4,
 "nbformat_minor": 5
}
