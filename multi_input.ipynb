{
 "cells": [
  {
   "cell_type": "code",
   "execution_count": null,
   "id": "047a7a2b",
   "metadata": {},
   "outputs": [],
   "source": [
    "from typing import List, TypedDict\n",
    "from langgraph.graph import StateGraph\n",
    "from IPython.display import display, Image"
   ]
  },
  {
   "cell_type": "code",
   "execution_count": null,
   "id": "30ed1d40",
   "metadata": {},
   "outputs": [],
   "source": [
    "class AgentState(TypedDict):\n",
    "    \"\"\"State of the agent.\"\"\"\n",
    "    values: List[int]\n",
    "    name: str\n",
    "    result: str"
   ]
  },
  {
   "cell_type": "code",
   "execution_count": null,
   "id": "36e9442c",
   "metadata": {},
   "outputs": [],
   "source": [
    "def process_values(state: AgentState) -> AgentState:\n",
    "    \"\"\"Funtion handling multiple values\"\"\"\n",
    "    print(state)\n",
    "    state['result'] = f\"Hi {state['name']}, sum of values is {sum(state['values'])}.\"\n",
    "    print(state)\n",
    "\n",
    "    return state"
   ]
  },
  {
   "cell_type": "code",
   "execution_count": null,
   "id": "10e29ed7",
   "metadata": {},
   "outputs": [],
   "source": [
    "graph = StateGraph(AgentState)\n",
    "\n",
    "graph.add_node(\"processor\" ,process_values)\n",
    "graph.set_entry_point(\"processor\")\n",
    "graph.set_finish_point(\"processor\")\n",
    "\n",
    "app = graph.compile()"
   ]
  },
  {
   "cell_type": "code",
   "execution_count": null,
   "id": "9861f5e5",
   "metadata": {},
   "outputs": [],
   "source": [
    "display(Image(app.get_graph().draw_mermaid_png()))  # Display the graph as an image"
   ]
  },
  {
   "cell_type": "code",
   "execution_count": null,
   "id": "3e7db08f",
   "metadata": {},
   "outputs": [],
   "source": [
    "result = app.invoke({\"values\":[1, 2, 3] , \"name\":\"ak\"})\n",
    "\n",
    "print(result)\n",
    "print(\"Result:\", result['result'])\n",
    "print(\"Values:\", result['values'])\n",
    "print(\"Name:\", result['name'])"
   ]
  }
 ],
 "metadata": {
  "kernelspec": {
   "display_name": "Python 3",
   "language": "python",
   "name": "python3"
  },
  "language_info": {
   "codemirror_mode": {
    "name": "ipython",
    "version": 3
   },
   "file_extension": ".py",
   "mimetype": "text/x-python",
   "name": "python",
   "nbconvert_exporter": "python",
   "pygments_lexer": "ipython3",
   "version": "3.12.9"
  }
 },
 "nbformat": 4,
 "nbformat_minor": 5
}
